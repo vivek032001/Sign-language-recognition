{
 "cells": [
  {
   "cell_type": "code",
   "execution_count": 1,
   "metadata": {},
   "outputs": [],
   "source": [
    "import numpy as np\n",
    "import pandas as pd\n",
    "import tensorflow as tf\n",
    "import matplotlib.pyplot as plt"
   ]
  },
  {
   "cell_type": "code",
   "execution_count": 3,
   "metadata": {},
   "outputs": [],
   "source": [
    "traindata = pd.read_csv(r\"C:\\Users\\vivek\\Desktop\\sldata\\sign_mnist_train.csv\")\n",
    "testdata = pd.read_csv(r\"C:\\Users\\vivek\\Desktop\\sldata\\sign_mnist_test.csv\")"
   ]
  },
  {
   "cell_type": "code",
   "execution_count": 4,
   "metadata": {},
   "outputs": [
    {
     "data": {
      "text/html": [
       "<div>\n",
       "<style scoped>\n",
       "    .dataframe tbody tr th:only-of-type {\n",
       "        vertical-align: middle;\n",
       "    }\n",
       "\n",
       "    .dataframe tbody tr th {\n",
       "        vertical-align: top;\n",
       "    }\n",
       "\n",
       "    .dataframe thead th {\n",
       "        text-align: right;\n",
       "    }\n",
       "</style>\n",
       "<table border=\"1\" class=\"dataframe\">\n",
       "  <thead>\n",
       "    <tr style=\"text-align: right;\">\n",
       "      <th></th>\n",
       "      <th>label</th>\n",
       "      <th>pixel1</th>\n",
       "      <th>pixel2</th>\n",
       "      <th>pixel3</th>\n",
       "      <th>pixel4</th>\n",
       "      <th>pixel5</th>\n",
       "      <th>pixel6</th>\n",
       "      <th>pixel7</th>\n",
       "      <th>pixel8</th>\n",
       "      <th>pixel9</th>\n",
       "      <th>...</th>\n",
       "      <th>pixel775</th>\n",
       "      <th>pixel776</th>\n",
       "      <th>pixel777</th>\n",
       "      <th>pixel778</th>\n",
       "      <th>pixel779</th>\n",
       "      <th>pixel780</th>\n",
       "      <th>pixel781</th>\n",
       "      <th>pixel782</th>\n",
       "      <th>pixel783</th>\n",
       "      <th>pixel784</th>\n",
       "    </tr>\n",
       "  </thead>\n",
       "  <tbody>\n",
       "    <tr>\n",
       "      <td>0</td>\n",
       "      <td>3</td>\n",
       "      <td>107</td>\n",
       "      <td>118</td>\n",
       "      <td>127</td>\n",
       "      <td>134</td>\n",
       "      <td>139</td>\n",
       "      <td>143</td>\n",
       "      <td>146</td>\n",
       "      <td>150</td>\n",
       "      <td>153</td>\n",
       "      <td>...</td>\n",
       "      <td>207</td>\n",
       "      <td>207</td>\n",
       "      <td>207</td>\n",
       "      <td>207</td>\n",
       "      <td>206</td>\n",
       "      <td>206</td>\n",
       "      <td>206</td>\n",
       "      <td>204</td>\n",
       "      <td>203</td>\n",
       "      <td>202</td>\n",
       "    </tr>\n",
       "    <tr>\n",
       "      <td>1</td>\n",
       "      <td>6</td>\n",
       "      <td>155</td>\n",
       "      <td>157</td>\n",
       "      <td>156</td>\n",
       "      <td>156</td>\n",
       "      <td>156</td>\n",
       "      <td>157</td>\n",
       "      <td>156</td>\n",
       "      <td>158</td>\n",
       "      <td>158</td>\n",
       "      <td>...</td>\n",
       "      <td>69</td>\n",
       "      <td>149</td>\n",
       "      <td>128</td>\n",
       "      <td>87</td>\n",
       "      <td>94</td>\n",
       "      <td>163</td>\n",
       "      <td>175</td>\n",
       "      <td>103</td>\n",
       "      <td>135</td>\n",
       "      <td>149</td>\n",
       "    </tr>\n",
       "    <tr>\n",
       "      <td>2</td>\n",
       "      <td>2</td>\n",
       "      <td>187</td>\n",
       "      <td>188</td>\n",
       "      <td>188</td>\n",
       "      <td>187</td>\n",
       "      <td>187</td>\n",
       "      <td>186</td>\n",
       "      <td>187</td>\n",
       "      <td>188</td>\n",
       "      <td>187</td>\n",
       "      <td>...</td>\n",
       "      <td>202</td>\n",
       "      <td>201</td>\n",
       "      <td>200</td>\n",
       "      <td>199</td>\n",
       "      <td>198</td>\n",
       "      <td>199</td>\n",
       "      <td>198</td>\n",
       "      <td>195</td>\n",
       "      <td>194</td>\n",
       "      <td>195</td>\n",
       "    </tr>\n",
       "    <tr>\n",
       "      <td>3</td>\n",
       "      <td>2</td>\n",
       "      <td>211</td>\n",
       "      <td>211</td>\n",
       "      <td>212</td>\n",
       "      <td>212</td>\n",
       "      <td>211</td>\n",
       "      <td>210</td>\n",
       "      <td>211</td>\n",
       "      <td>210</td>\n",
       "      <td>210</td>\n",
       "      <td>...</td>\n",
       "      <td>235</td>\n",
       "      <td>234</td>\n",
       "      <td>233</td>\n",
       "      <td>231</td>\n",
       "      <td>230</td>\n",
       "      <td>226</td>\n",
       "      <td>225</td>\n",
       "      <td>222</td>\n",
       "      <td>229</td>\n",
       "      <td>163</td>\n",
       "    </tr>\n",
       "    <tr>\n",
       "      <td>4</td>\n",
       "      <td>13</td>\n",
       "      <td>164</td>\n",
       "      <td>167</td>\n",
       "      <td>170</td>\n",
       "      <td>172</td>\n",
       "      <td>176</td>\n",
       "      <td>179</td>\n",
       "      <td>180</td>\n",
       "      <td>184</td>\n",
       "      <td>185</td>\n",
       "      <td>...</td>\n",
       "      <td>92</td>\n",
       "      <td>105</td>\n",
       "      <td>105</td>\n",
       "      <td>108</td>\n",
       "      <td>133</td>\n",
       "      <td>163</td>\n",
       "      <td>157</td>\n",
       "      <td>163</td>\n",
       "      <td>164</td>\n",
       "      <td>179</td>\n",
       "    </tr>\n",
       "  </tbody>\n",
       "</table>\n",
       "<p>5 rows × 785 columns</p>\n",
       "</div>"
      ],
      "text/plain": [
       "   label  pixel1  pixel2  pixel3  pixel4  pixel5  pixel6  pixel7  pixel8  \\\n",
       "0      3     107     118     127     134     139     143     146     150   \n",
       "1      6     155     157     156     156     156     157     156     158   \n",
       "2      2     187     188     188     187     187     186     187     188   \n",
       "3      2     211     211     212     212     211     210     211     210   \n",
       "4     13     164     167     170     172     176     179     180     184   \n",
       "\n",
       "   pixel9  ...  pixel775  pixel776  pixel777  pixel778  pixel779  pixel780  \\\n",
       "0     153  ...       207       207       207       207       206       206   \n",
       "1     158  ...        69       149       128        87        94       163   \n",
       "2     187  ...       202       201       200       199       198       199   \n",
       "3     210  ...       235       234       233       231       230       226   \n",
       "4     185  ...        92       105       105       108       133       163   \n",
       "\n",
       "   pixel781  pixel782  pixel783  pixel784  \n",
       "0       206       204       203       202  \n",
       "1       175       103       135       149  \n",
       "2       198       195       194       195  \n",
       "3       225       222       229       163  \n",
       "4       157       163       164       179  \n",
       "\n",
       "[5 rows x 785 columns]"
      ]
     },
     "execution_count": 4,
     "metadata": {},
     "output_type": "execute_result"
    }
   ],
   "source": [
    "traindata.head()"
   ]
  },
  {
   "cell_type": "code",
   "execution_count": 5,
   "metadata": {},
   "outputs": [
    {
     "data": {
      "text/html": [
       "<div>\n",
       "<style scoped>\n",
       "    .dataframe tbody tr th:only-of-type {\n",
       "        vertical-align: middle;\n",
       "    }\n",
       "\n",
       "    .dataframe tbody tr th {\n",
       "        vertical-align: top;\n",
       "    }\n",
       "\n",
       "    .dataframe thead th {\n",
       "        text-align: right;\n",
       "    }\n",
       "</style>\n",
       "<table border=\"1\" class=\"dataframe\">\n",
       "  <thead>\n",
       "    <tr style=\"text-align: right;\">\n",
       "      <th></th>\n",
       "      <th>label</th>\n",
       "      <th>pixel1</th>\n",
       "      <th>pixel2</th>\n",
       "      <th>pixel3</th>\n",
       "      <th>pixel4</th>\n",
       "      <th>pixel5</th>\n",
       "      <th>pixel6</th>\n",
       "      <th>pixel7</th>\n",
       "      <th>pixel8</th>\n",
       "      <th>pixel9</th>\n",
       "      <th>...</th>\n",
       "      <th>pixel775</th>\n",
       "      <th>pixel776</th>\n",
       "      <th>pixel777</th>\n",
       "      <th>pixel778</th>\n",
       "      <th>pixel779</th>\n",
       "      <th>pixel780</th>\n",
       "      <th>pixel781</th>\n",
       "      <th>pixel782</th>\n",
       "      <th>pixel783</th>\n",
       "      <th>pixel784</th>\n",
       "    </tr>\n",
       "  </thead>\n",
       "  <tbody>\n",
       "    <tr>\n",
       "      <td>0</td>\n",
       "      <td>6</td>\n",
       "      <td>149</td>\n",
       "      <td>149</td>\n",
       "      <td>150</td>\n",
       "      <td>150</td>\n",
       "      <td>150</td>\n",
       "      <td>151</td>\n",
       "      <td>151</td>\n",
       "      <td>150</td>\n",
       "      <td>151</td>\n",
       "      <td>...</td>\n",
       "      <td>138</td>\n",
       "      <td>148</td>\n",
       "      <td>127</td>\n",
       "      <td>89</td>\n",
       "      <td>82</td>\n",
       "      <td>96</td>\n",
       "      <td>106</td>\n",
       "      <td>112</td>\n",
       "      <td>120</td>\n",
       "      <td>107</td>\n",
       "    </tr>\n",
       "    <tr>\n",
       "      <td>1</td>\n",
       "      <td>5</td>\n",
       "      <td>126</td>\n",
       "      <td>128</td>\n",
       "      <td>131</td>\n",
       "      <td>132</td>\n",
       "      <td>133</td>\n",
       "      <td>134</td>\n",
       "      <td>135</td>\n",
       "      <td>135</td>\n",
       "      <td>136</td>\n",
       "      <td>...</td>\n",
       "      <td>47</td>\n",
       "      <td>104</td>\n",
       "      <td>194</td>\n",
       "      <td>183</td>\n",
       "      <td>186</td>\n",
       "      <td>184</td>\n",
       "      <td>184</td>\n",
       "      <td>184</td>\n",
       "      <td>182</td>\n",
       "      <td>180</td>\n",
       "    </tr>\n",
       "    <tr>\n",
       "      <td>2</td>\n",
       "      <td>10</td>\n",
       "      <td>85</td>\n",
       "      <td>88</td>\n",
       "      <td>92</td>\n",
       "      <td>96</td>\n",
       "      <td>105</td>\n",
       "      <td>123</td>\n",
       "      <td>135</td>\n",
       "      <td>143</td>\n",
       "      <td>147</td>\n",
       "      <td>...</td>\n",
       "      <td>68</td>\n",
       "      <td>166</td>\n",
       "      <td>242</td>\n",
       "      <td>227</td>\n",
       "      <td>230</td>\n",
       "      <td>227</td>\n",
       "      <td>226</td>\n",
       "      <td>225</td>\n",
       "      <td>224</td>\n",
       "      <td>222</td>\n",
       "    </tr>\n",
       "    <tr>\n",
       "      <td>3</td>\n",
       "      <td>0</td>\n",
       "      <td>203</td>\n",
       "      <td>205</td>\n",
       "      <td>207</td>\n",
       "      <td>206</td>\n",
       "      <td>207</td>\n",
       "      <td>209</td>\n",
       "      <td>210</td>\n",
       "      <td>209</td>\n",
       "      <td>210</td>\n",
       "      <td>...</td>\n",
       "      <td>154</td>\n",
       "      <td>248</td>\n",
       "      <td>247</td>\n",
       "      <td>248</td>\n",
       "      <td>253</td>\n",
       "      <td>236</td>\n",
       "      <td>230</td>\n",
       "      <td>240</td>\n",
       "      <td>253</td>\n",
       "      <td>255</td>\n",
       "    </tr>\n",
       "    <tr>\n",
       "      <td>4</td>\n",
       "      <td>3</td>\n",
       "      <td>188</td>\n",
       "      <td>191</td>\n",
       "      <td>193</td>\n",
       "      <td>195</td>\n",
       "      <td>199</td>\n",
       "      <td>201</td>\n",
       "      <td>202</td>\n",
       "      <td>203</td>\n",
       "      <td>203</td>\n",
       "      <td>...</td>\n",
       "      <td>26</td>\n",
       "      <td>40</td>\n",
       "      <td>64</td>\n",
       "      <td>48</td>\n",
       "      <td>29</td>\n",
       "      <td>46</td>\n",
       "      <td>49</td>\n",
       "      <td>46</td>\n",
       "      <td>46</td>\n",
       "      <td>53</td>\n",
       "    </tr>\n",
       "  </tbody>\n",
       "</table>\n",
       "<p>5 rows × 785 columns</p>\n",
       "</div>"
      ],
      "text/plain": [
       "   label  pixel1  pixel2  pixel3  pixel4  pixel5  pixel6  pixel7  pixel8  \\\n",
       "0      6     149     149     150     150     150     151     151     150   \n",
       "1      5     126     128     131     132     133     134     135     135   \n",
       "2     10      85      88      92      96     105     123     135     143   \n",
       "3      0     203     205     207     206     207     209     210     209   \n",
       "4      3     188     191     193     195     199     201     202     203   \n",
       "\n",
       "   pixel9  ...  pixel775  pixel776  pixel777  pixel778  pixel779  pixel780  \\\n",
       "0     151  ...       138       148       127        89        82        96   \n",
       "1     136  ...        47       104       194       183       186       184   \n",
       "2     147  ...        68       166       242       227       230       227   \n",
       "3     210  ...       154       248       247       248       253       236   \n",
       "4     203  ...        26        40        64        48        29        46   \n",
       "\n",
       "   pixel781  pixel782  pixel783  pixel784  \n",
       "0       106       112       120       107  \n",
       "1       184       184       182       180  \n",
       "2       226       225       224       222  \n",
       "3       230       240       253       255  \n",
       "4        49        46        46        53  \n",
       "\n",
       "[5 rows x 785 columns]"
      ]
     },
     "execution_count": 5,
     "metadata": {},
     "output_type": "execute_result"
    }
   ],
   "source": [
    "testdata.head()"
   ]
  },
  {
   "cell_type": "code",
   "execution_count": 7,
   "metadata": {},
   "outputs": [
    {
     "data": {
      "text/plain": [
       "(27455, 785)"
      ]
     },
     "execution_count": 7,
     "metadata": {},
     "output_type": "execute_result"
    }
   ],
   "source": [
    "traindata.shape"
   ]
  },
  {
   "cell_type": "code",
   "execution_count": 8,
   "metadata": {},
   "outputs": [],
   "source": [
    "X_train = traindata.drop('label', axis = 1)\n",
    "X_test = testdata.drop('label', axis = 1)"
   ]
  },
  {
   "cell_type": "code",
   "execution_count": 9,
   "metadata": {},
   "outputs": [],
   "source": [
    "y_train = traindata['label'].values\n",
    "y_test = testdata['label'].values"
   ]
  },
  {
   "cell_type": "code",
   "execution_count": 10,
   "metadata": {},
   "outputs": [],
   "source": [
    "X_train = X_train.values\n",
    "X_test = X_test.values"
   ]
  },
  {
   "cell_type": "code",
   "execution_count": 13,
   "metadata": {},
   "outputs": [],
   "source": [
    "X_train=np.array(X_train.reshape(-1,28,28,1))\n",
    "X_test=np.array(X_test.reshape(-1,28,28,1))"
   ]
  },
  {
   "cell_type": "code",
   "execution_count": 14,
   "metadata": {},
   "outputs": [
    {
     "data": {
      "text/plain": [
       "(27455, 28, 28, 1)"
      ]
     },
     "execution_count": 14,
     "metadata": {},
     "output_type": "execute_result"
    }
   ],
   "source": [
    "X_train.shape"
   ]
  },
  {
   "cell_type": "code",
   "execution_count": 15,
   "metadata": {},
   "outputs": [
    {
     "data": {
      "text/plain": [
       "array([ 0,  1,  2,  3,  4,  5,  6,  7,  8, 10, 11, 12, 13, 14, 15, 16, 17,\n",
       "       18, 19, 20, 21, 22, 23, 24], dtype=int64)"
      ]
     },
     "execution_count": 15,
     "metadata": {},
     "output_type": "execute_result"
    }
   ],
   "source": [
    "labl = np.array(y_train)\n",
    "np.unique(labl)"
   ]
  },
  {
   "cell_type": "code",
   "execution_count": 16,
   "metadata": {},
   "outputs": [],
   "source": [
    "from sklearn.preprocessing import LabelBinarizer\n",
    "lab = LabelBinarizer()\n",
    "y_train = lab.fit_transform(y_train)\n",
    "y_test = lab.fit_transform(y_test)"
   ]
  },
  {
   "cell_type": "code",
   "execution_count": 17,
   "metadata": {},
   "outputs": [
    {
     "data": {
      "text/plain": [
       "array([[0, 0, 0, ..., 0, 0, 0],\n",
       "       [0, 0, 0, ..., 0, 0, 0],\n",
       "       [0, 0, 1, ..., 0, 0, 0],\n",
       "       ...,\n",
       "       [0, 0, 0, ..., 0, 0, 0],\n",
       "       [0, 0, 0, ..., 0, 0, 0],\n",
       "       [0, 0, 0, ..., 0, 1, 0]])"
      ]
     },
     "execution_count": 17,
     "metadata": {},
     "output_type": "execute_result"
    }
   ],
   "source": [
    "y_train"
   ]
  },
  {
   "cell_type": "code",
   "execution_count": 20,
   "metadata": {},
   "outputs": [
    {
     "data": {
      "text/plain": [
       "<matplotlib.image.AxesImage at 0x1e714c160c8>"
      ]
     },
     "execution_count": 20,
     "metadata": {},
     "output_type": "execute_result"
    },
    {
     "data": {
      "image/png": "[encoded data removed]",
      "text/plain": [
       "<Figure size 432x288 with 1 Axes>"
      ]
     },
     "metadata": {
      "needs_background": "light"
     },
     "output_type": "display_data"
    }
   ],
   "source": [
    "plt.imshow(X_train[2].reshape(28,28))"
   ]
  },
  {
   "cell_type": "code",
   "execution_count": 21,
   "metadata": {},
   "outputs": [],
   "source": [
    "X_train = X_train/255\n",
    "X_test = X_test/255"
   ]
  },
  {
   "cell_type": "code",
   "execution_count": 25,
   "metadata": {},
   "outputs": [],
   "source": [
    "model = tf.keras.models.Sequential([\n",
    "    tf.keras.layers.Conv2D(64, (3, 3), activation = \"relu\", input_shape = (28, 28, 1)),\n",
    "    tf.keras.layers.MaxPooling2D(2, 2),\n",
    "    tf.keras.layers.Dropout(0.25),\n",
    "    tf.keras.layers.Conv2D(64, (3, 3), activation = \"relu\"),\n",
    "    tf.keras.layers.MaxPooling2D(2, 2),\n",
    "    tf.keras.layers.Dropout(0.25),\n",
    "    tf.keras.layers.Conv2D(64, (3, 3), activation = \"relu\"),\n",
    "    tf.keras.layers.MaxPooling2D(2, 2),\n",
    "    tf.keras.layers.Dropout(0.25),\n",
    "    tf.keras.layers.Flatten(),\n",
    "    tf.keras.layers.Dense(128, activation = \"relu\"),\n",
    "    tf.keras.layers.Dense(24, activation = \"softmax\")\n",
    "])"
   ]
  },
  {
   "cell_type": "code",
   "execution_count": 26,
   "metadata": {},
   "outputs": [
    {
     "name": "stdout",
     "output_type": "stream",
     "text": [
      "Model: \"sequential\"\n",
      "_________________________________________________________________\n",
      "Layer (type)                 Output Shape              Param #   \n",
      "=================================================================\n",
      "conv2d_3 (Conv2D)            (None, 26, 26, 64)        640       \n",
      "_________________________________________________________________\n",
      "max_pooling2d_2 (MaxPooling2 (None, 13, 13, 64)        0         \n",
      "_________________________________________________________________\n",
      "dropout_2 (Dropout)          (None, 13, 13, 64)        0         \n",
      "_________________________________________________________________\n",
      "conv2d_4 (Conv2D)            (None, 11, 11, 64)        36928     \n",
      "_________________________________________________________________\n",
      "max_pooling2d_3 (MaxPooling2 (None, 5, 5, 64)          0         \n",
      "_________________________________________________________________\n",
      "dropout_3 (Dropout)          (None, 5, 5, 64)          0         \n",
      "_________________________________________________________________\n",
      "conv2d_5 (Conv2D)            (None, 3, 3, 64)          36928     \n",
      "_________________________________________________________________\n",
      "max_pooling2d_4 (MaxPooling2 (None, 1, 1, 64)          0         \n",
      "_________________________________________________________________\n",
      "dropout_4 (Dropout)          (None, 1, 1, 64)          0         \n",
      "_________________________________________________________________\n",
      "flatten (Flatten)            (None, 64)                0         \n",
      "_________________________________________________________________\n",
      "dense (Dense)                (None, 128)               8320      \n",
      "_________________________________________________________________\n",
      "dense_1 (Dense)              (None, 24)                3096      \n",
      "=================================================================\n",
      "Total params: 85,912\n",
      "Trainable params: 85,912\n",
      "Non-trainable params: 0\n",
      "_________________________________________________________________\n"
     ]
    }
   ],
   "source": [
    "model.summary()"
   ]
  },
  {
   "cell_type": "code",
   "execution_count": 28,
   "metadata": {},
   "outputs": [],
   "source": [
    "model.compile(optimizer = 'Adam', loss = tf.keras.losses.categorical_crossentropy, metrics = ['accuracy'])"
   ]
  },
  {
   "cell_type": "code",
   "execution_count": 30,
   "metadata": {},
   "outputs": [
    {
     "name": "stdout",
     "output_type": "stream",
     "text": [
      "Train on 27455 samples, validate on 7172 samples\n",
      "Epoch 1/50\n",
      "27455/27455 [==============================] - 43s 2ms/sample - loss: 2.7811 - accuracy: 0.1442 - val_loss: 1.9288 - val_accuracy: 0.3832\n",
      "Epoch 2/50\n",
      "27455/27455 [==============================] - 47s 2ms/sample - loss: 1.4114 - accuracy: 0.5230 - val_loss: 0.9464 - val_accuracy: 0.6889\n",
      "Epoch 3/50\n",
      "27455/27455 [==============================] - 45s 2ms/sample - loss: 0.8924 - accuracy: 0.6937 - val_loss: 0.6323 - val_accuracy: 0.8107\n",
      "Epoch 4/50\n",
      "27455/27455 [==============================] - 45s 2ms/sample - loss: 0.6394 - accuracy: 0.7789 - val_loss: 0.5000 - val_accuracy: 0.8394\n",
      "Epoch 5/50\n",
      "27455/27455 [==============================] - 45s 2ms/sample - loss: 0.4857 - accuracy: 0.8313 - val_loss: 0.4118 - val_accuracy: 0.8723\n",
      "Epoch 6/50\n",
      "27455/27455 [==============================] - 45s 2ms/sample - loss: 0.3833 - accuracy: 0.8682 - val_loss: 0.3240 - val_accuracy: 0.8890\n",
      "Epoch 7/50\n",
      "27455/27455 [==============================] - 45s 2ms/sample - loss: 0.3124 - accuracy: 0.8930 - val_loss: 0.3105 - val_accuracy: 0.9027\n",
      "Epoch 8/50\n",
      "27455/27455 [==============================] - 45s 2ms/sample - loss: 0.2610 - accuracy: 0.9124 - val_loss: 0.2485 - val_accuracy: 0.9241\n",
      "Epoch 9/50\n",
      "27455/27455 [==============================] - 45s 2ms/sample - loss: 0.2193 - accuracy: 0.9269 - val_loss: 0.2253 - val_accuracy: 0.9264\n",
      "Epoch 10/50\n",
      "27455/27455 [==============================] - 45s 2ms/sample - loss: 0.1876 - accuracy: 0.9371 - val_loss: 0.2047 - val_accuracy: 0.9373\n",
      "Epoch 11/50\n",
      "27455/27455 [==============================] - 45s 2ms/sample - loss: 0.1648 - accuracy: 0.9454 - val_loss: 0.2128 - val_accuracy: 0.9417\n",
      "Epoch 12/50\n",
      "27455/27455 [==============================] - 45s 2ms/sample - loss: 0.1449 - accuracy: 0.9525 - val_loss: 0.2005 - val_accuracy: 0.9466\n",
      "Epoch 13/50\n",
      "27455/27455 [==============================] - 45s 2ms/sample - loss: 0.1301 - accuracy: 0.9563 - val_loss: 0.2230 - val_accuracy: 0.9378\n",
      "Epoch 14/50\n",
      "27455/27455 [==============================] - 45s 2ms/sample - loss: 0.1202 - accuracy: 0.9606 - val_loss: 0.2243 - val_accuracy: 0.9402\n",
      "Epoch 15/50\n",
      "27455/27455 [==============================] - 46s 2ms/sample - loss: 0.1016 - accuracy: 0.9655 - val_loss: 0.1883 - val_accuracy: 0.9385\n",
      "Epoch 16/50\n",
      "27455/27455 [==============================] - 48s 2ms/sample - loss: 0.0973 - accuracy: 0.9679 - val_loss: 0.1690 - val_accuracy: 0.9534\n",
      "Epoch 17/50\n",
      "27455/27455 [==============================] - 48s 2ms/sample - loss: 0.0961 - accuracy: 0.9691 - val_loss: 0.1711 - val_accuracy: 0.9501\n",
      "Epoch 18/50\n",
      "27455/27455 [==============================] - 48s 2ms/sample - loss: 0.0886 - accuracy: 0.9703 - val_loss: 0.2075 - val_accuracy: 0.9452\n",
      "Epoch 19/50\n",
      "27455/27455 [==============================] - 49s 2ms/sample - loss: 0.0819 - accuracy: 0.9738 - val_loss: 0.1870 - val_accuracy: 0.9499\n",
      "Epoch 20/50\n",
      "27455/27455 [==============================] - 49s 2ms/sample - loss: 0.0817 - accuracy: 0.9728 - val_loss: 0.1537 - val_accuracy: 0.9548\n",
      "Epoch 21/50\n",
      "27455/27455 [==============================] - 50s 2ms/sample - loss: 0.0734 - accuracy: 0.9759 - val_loss: 0.1673 - val_accuracy: 0.9632\n",
      "Epoch 22/50\n",
      "27455/27455 [==============================] - 50s 2ms/sample - loss: 0.0699 - accuracy: 0.9765 - val_loss: 0.1923 - val_accuracy: 0.9499\n",
      "Epoch 23/50\n",
      "27455/27455 [==============================] - 51s 2ms/sample - loss: 0.0669 - accuracy: 0.9785 - val_loss: 0.1948 - val_accuracy: 0.9453\n",
      "Epoch 24/50\n",
      "27455/27455 [==============================] - 52s 2ms/sample - loss: 0.0692 - accuracy: 0.9768 - val_loss: 0.1787 - val_accuracy: 0.9552\n",
      "Epoch 25/50\n",
      "27455/27455 [==============================] - 52s 2ms/sample - loss: 0.0647 - accuracy: 0.9791 - val_loss: 0.1759 - val_accuracy: 0.9565\n",
      "Epoch 26/50\n",
      "27455/27455 [==============================] - 54s 2ms/sample - loss: 0.0596 - accuracy: 0.9805 - val_loss: 0.1453 - val_accuracy: 0.9596\n",
      "Epoch 27/50\n",
      "27455/27455 [==============================] - 55s 2ms/sample - loss: 0.0617 - accuracy: 0.9793 - val_loss: 0.1618 - val_accuracy: 0.9571\n",
      "Epoch 28/50\n",
      "27455/27455 [==============================] - 58s 2ms/sample - loss: 0.0525 - accuracy: 0.9826 - val_loss: 0.1809 - val_accuracy: 0.9562\n",
      "Epoch 29/50\n",
      "27455/27455 [==============================] - 60s 2ms/sample - loss: 0.0547 - accuracy: 0.9826 - val_loss: 0.2026 - val_accuracy: 0.9543\n",
      "Epoch 30/50\n",
      "27455/27455 [==============================] - 63s 2ms/sample - loss: 0.0525 - accuracy: 0.9831 - val_loss: 0.1608 - val_accuracy: 0.9582\n",
      "Epoch 31/50\n",
      "27455/27455 [==============================] - 68s 2ms/sample - loss: 0.0502 - accuracy: 0.9834 - val_loss: 0.1500 - val_accuracy: 0.9578\n",
      "Epoch 32/50\n",
      "27455/27455 [==============================] - 69s 3ms/sample - loss: 0.0496 - accuracy: 0.9834 - val_loss: 0.1664 - val_accuracy: 0.9601\n",
      "Epoch 33/50\n",
      "27455/27455 [==============================] - 66s 2ms/sample - loss: 0.0455 - accuracy: 0.9842 - val_loss: 0.1675 - val_accuracy: 0.9622\n",
      "Epoch 34/50\n",
      "27455/27455 [==============================] - 60s 2ms/sample - loss: 0.0454 - accuracy: 0.9859 - val_loss: 0.1634 - val_accuracy: 0.9608\n",
      "Epoch 35/50\n",
      "27455/27455 [==============================] - 61s 2ms/sample - loss: 0.0485 - accuracy: 0.9838 - val_loss: 0.1436 - val_accuracy: 0.9559\n",
      "Epoch 36/50\n",
      "27455/27455 [==============================] - 60s 2ms/sample - loss: 0.0456 - accuracy: 0.9851 - val_loss: 0.1751 - val_accuracy: 0.9586\n",
      "Epoch 37/50\n",
      "27455/27455 [==============================] - 61s 2ms/sample - loss: 0.0453 - accuracy: 0.9846 - val_loss: 0.1830 - val_accuracy: 0.9550\n",
      "Epoch 38/50\n",
      "27455/27455 [==============================] - 60s 2ms/sample - loss: 0.0433 - accuracy: 0.9852 - val_loss: 0.1621 - val_accuracy: 0.9541\n",
      "Epoch 39/50\n",
      "27455/27455 [==============================] - 62s 2ms/sample - loss: 0.0405 - accuracy: 0.9867 - val_loss: 0.1649 - val_accuracy: 0.9584\n",
      "Epoch 40/50\n",
      "27455/27455 [==============================] - 59s 2ms/sample - loss: 0.0396 - accuracy: 0.9862 - val_loss: 0.1537 - val_accuracy: 0.9639\n",
      "Epoch 41/50\n",
      "27455/27455 [==============================] - 62s 2ms/sample - loss: 0.0405 - accuracy: 0.9866 - val_loss: 0.1643 - val_accuracy: 0.9625\n",
      "Epoch 42/50\n",
      "27455/27455 [==============================] - 60s 2ms/sample - loss: 0.0416 - accuracy: 0.9867 - val_loss: 0.1567 - val_accuracy: 0.9615\n",
      "Epoch 43/50\n",
      "27455/27455 [==============================] - 61s 2ms/sample - loss: 0.0408 - accuracy: 0.9867 - val_loss: 0.1880 - val_accuracy: 0.9564\n",
      "Epoch 44/50\n",
      "27455/27455 [==============================] - 61s 2ms/sample - loss: 0.0389 - accuracy: 0.9878 - val_loss: 0.1631 - val_accuracy: 0.9598\n",
      "Epoch 45/50\n",
      "27455/27455 [==============================] - 62s 2ms/sample - loss: 0.0362 - accuracy: 0.9883 - val_loss: 0.1627 - val_accuracy: 0.9582\n",
      "Epoch 46/50\n",
      "27455/27455 [==============================] - 59s 2ms/sample - loss: 0.0403 - accuracy: 0.9864 - val_loss: 0.1670 - val_accuracy: 0.9596\n",
      "Epoch 47/50\n",
      "27455/27455 [==============================] - 62s 2ms/sample - loss: 0.0315 - accuracy: 0.9894 - val_loss: 0.1630 - val_accuracy: 0.9573\n",
      "Epoch 48/50\n",
      "27455/27455 [==============================] - 65s 2ms/sample - loss: 0.0306 - accuracy: 0.9899 - val_loss: 0.1654 - val_accuracy: 0.9607\n",
      "Epoch 49/50\n",
      "27455/27455 [==============================] - 63s 2ms/sample - loss: 0.0326 - accuracy: 0.9895 - val_loss: 0.1741 - val_accuracy: 0.9571\n",
      "Epoch 50/50\n",
      "27455/27455 [==============================] - 58s 2ms/sample - loss: 0.0356 - accuracy: 0.9882 - val_loss: 0.1675 - val_accuracy: 0.9568\n"
     ]
    }
   ],
   "source": [
    "history = model.fit(X_train, y_train, epochs = 50, validation_data = (X_test, y_test), batch_size = 128)"
   ]
  },
  {
   "cell_type": "code",
   "execution_count": 31,
   "metadata": {},
   "outputs": [
    {
     "name": "stdout",
     "output_type": "stream",
     "text": [
      "7172/7172 [==============================] - 6s 802us/sample - loss: 0.1675 - accuracy: 0.9568\n",
      "Accuracy:0.9567764\n"
     ]
    }
   ],
   "source": [
    "[loss, acc] = model.evaluate(X_test,y_test,verbose=1)\n",
    "print(\"Accuracy:\" + str(acc))"
   ]
  },
  {
   "cell_type": "code",
   "execution_count": 32,
   "metadata": {},
   "outputs": [
    {
     "data": {
      "image/png": "[encoded data removed]",
      "text/plain": [
       "<Figure size 432x288 with 1 Axes>"
      ]
     },
     "metadata": {
      "needs_background": "light"
     },
     "output_type": "display_data"
    }
   ],
   "source": [
    "fig = plt.figure()\n",
    "plt.plot(history.epoch,  history.history['loss'] ,label='Train')\n",
    "plt.plot(history.epoch,  history.history['val_loss'] ,label='test')\n",
    "plt.legend()\n",
    "plt.show()"
   ]
  },
  {
   "cell_type": "code",
   "execution_count": 33,
   "metadata": {},
   "outputs": [
    {
     "data": {
      "image/png": "[encoded data removed]",
      "text/plain": [
       "<Figure size 432x288 with 1 Axes>"
      ]
     },
     "metadata": {
      "needs_background": "light"
     },
     "output_type": "display_data"
    }
   ],
   "source": [
    "fig = plt.figure()\n",
    "plt.plot(history.epoch,  history.history['accuracy'] ,label='Train')\n",
    "plt.plot(history.epoch,  history.history['val_accuracy'] ,label='test')\n",
    "plt.legend()\n",
    "plt.show()"
   ]
  },
  {
   "cell_type": "code",
   "execution_count": 34,
   "metadata": {},
   "outputs": [],
   "source": [
    "json_model = model.to_json()\n",
    "with open(\"asl.json\", \"w\") as json_file:\n",
    "    json_file.write(json_model)\n",
    "model.save_weights('asl.h5')"
   ]
  },
  {
   "cell_type": "code",
   "execution_count": null,
   "metadata": {},
   "outputs": [],
   "source": []
  }
 ],
 "metadata": {
  "kernelspec": {
   "display_name": "Python 3",
   "language": "python",
   "name": "python3"
  },
  "language_info": {
   "codemirror_mode": {
    "name": "ipython",
    "version": 3
   },
   "file_extension": ".py",
   "mimetype": "text/x-python",
   "name": "python",
   "nbconvert_exporter": "python",
   "pygments_lexer": "ipython3",
   "version": "3.7.4"
  }
 },
 "nbformat": 4,
 "nbformat_minor": 2
}
